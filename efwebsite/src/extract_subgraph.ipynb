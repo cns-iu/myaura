{
 "cells": [
  {
   "cell_type": "code",
   "execution_count": 1,
   "metadata": {
    "collapsed": true
   },
   "outputs": [],
   "source": [
    "import networkx as nx\n",
    "import os"
   ]
  },
  {
   "cell_type": "code",
   "execution_count": 5,
   "outputs": [],
   "source": [
    "datapath = '/u/xw47/etrash/myaura/efwebsite/tmp-data'\n",
    "\n",
    "os.chdir(datapath)\n",
    "\n",
    "druglist = [339, 1186, 542, 5491, 551, 815, 762]\n",
    "drugset = set(druglist)"
   ],
   "metadata": {
    "collapsed": false,
    "pycharm": {
     "name": "#%%\n"
    }
   }
  },
  {
   "cell_type": "code",
   "execution_count": 3,
   "outputs": [],
   "source": [
    "saved_g = nx.read_gpickle('04-efwebsite-forums-network-20210321-samepost.gpickle')"
   ],
   "metadata": {
    "collapsed": false,
    "pycharm": {
     "name": "#%%\n"
    }
   }
  },
  {
   "cell_type": "code",
   "execution_count": 7,
   "outputs": [],
   "source": [
    "set1n = set()\n",
    "for drug in druglist:\n",
    "    for neighbor in saved_g[drug]:\n",
    "        set1n.add(neighbor)"
   ],
   "metadata": {
    "collapsed": false,
    "pycharm": {
     "name": "#%%\n"
    }
   }
  },
  {
   "cell_type": "code",
   "execution_count": 10,
   "outputs": [],
   "source": [
    "n1sub = saved_g.subgraph(set1n)"
   ],
   "metadata": {
    "collapsed": false,
    "pycharm": {
     "name": "#%%\n"
    }
   }
  },
  {
   "cell_type": "code",
   "execution_count": 15,
   "outputs": [],
   "source": [
    "list2n = []\n",
    "for node in saved_g:\n",
    "    if len(set(saved_g[node]) & drugset) >= 2:\n",
    "        list2n.append(node)"
   ],
   "metadata": {
    "collapsed": false,
    "pycharm": {
     "name": "#%%\n"
    }
   }
  },
  {
   "cell_type": "code",
   "source": [
    "n2sub = saved_g.subgraph(list2n)"
   ],
   "metadata": {
    "collapsed": false,
    "pycharm": {
     "name": "#%%\n"
    }
   },
   "execution_count": null,
   "outputs": []
  },
  {
   "cell_type": "markdown",
   "source": [
    "nx.write_gpickle(n1sub, 'efwebsite-forums-network-20210321-samepost-1neighbor.gpickle')\n",
    "nx.write_gpickle(n2sub, 'efwebsite-forums-network-20210321-samepost-2neighbor.gpickle')\n",
    "\n",
    "nx.write_graphml(n1sub, 'efwebsite-forums-network-20210321-samepost-1neighbor.graphml')\n",
    "nx.write_graphml(n2sub, 'efwebsite-forums-network-20210321-samepost-2neighbor.graphml')"
   ],
   "metadata": {
    "collapsed": false,
    "pycharm": {
     "name": "#%% md\n"
    }
   }
  },
  {
   "cell_type": "code",
   "execution_count": 24,
   "outputs": [
    {
     "name": "stdout",
     "output_type": "stream",
     "text": [
      "2017 1078 769 44904 40712 37418\n"
     ]
    }
   ],
   "source": [
    "print(saved_g.number_of_nodes(), n1sub.number_of_nodes(), n2sub.number_of_nodes(), saved_g.number_of_edges(), n1sub.number_of_edges(), n2sub.number_of_edges())\n"
   ],
   "metadata": {
    "collapsed": false,
    "pycharm": {
     "name": "#%%\n"
    }
   }
  },
  {
   "cell_type": "code",
   "source": [],
   "metadata": {
    "collapsed": false,
    "pycharm": {
     "name": "#%%\n"
    }
   },
   "execution_count": null,
   "outputs": []
  }
 ],
 "metadata": {
  "kernelspec": {
   "display_name": "Python 3",
   "language": "python",
   "name": "python3"
  },
  "language_info": {
   "codemirror_mode": {
    "name": "ipython",
    "version": 2
   },
   "file_extension": ".py",
   "mimetype": "text/x-python",
   "name": "python",
   "nbconvert_exporter": "python",
   "pygments_lexer": "ipython2",
   "version": "2.7.6"
  }
 },
 "nbformat": 4,
 "nbformat_minor": 0
}